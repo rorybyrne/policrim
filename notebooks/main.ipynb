{
 "cells": [
  {
   "cell_type": "markdown",
   "id": "1bfb4ad9-df25-45b6-8451-34641fcc7c7d",
   "metadata": {},
   "source": [
    "# Policrim\n",
    "\n",
    "..."
   ]
  },
  {
   "cell_type": "markdown",
   "id": "bf5f7def-022b-47f6-a6a5-780a888b22b6",
   "metadata": {},
   "source": [
    "## 1. Setup"
   ]
  },
  {
   "cell_type": "markdown",
   "id": "023457b9-0767-438b-9be1-c0e4e9cb37aa",
   "metadata": {},
   "source": [
    "### Imports"
   ]
  },
  {
   "cell_type": "code",
   "execution_count": 10,
   "id": "2cc57261-ad9e-47e9-b909-155f4dd8fbe4",
   "metadata": {},
   "outputs": [],
   "source": [
    "import sklearn\n",
    "import pandas\n",
    "import matplotlib.pyplot as plt\n",
    "from pydantic import BaseModel\n",
    "from pathlib import Path"
   ]
  },
  {
   "cell_type": "markdown",
   "id": "028ad8de-dc15-4b45-8256-cc36c7e866ad",
   "metadata": {},
   "source": [
    "### Types and Constants\n",
    "\n",
    "Set up any types, constants, etc. needed later."
   ]
  },
  {
   "cell_type": "code",
   "execution_count": 12,
   "id": "b922ee39-b441-4c77-96c2-cf61a10ec0c9",
   "metadata": {},
   "outputs": [],
   "source": [
    "RUSSIA = \"russia\"\n",
    "WEST = \"west\"\n",
    "\n",
    "class Config(BaseModel):\n",
    "    lda_topics: int\n",
    "    data_dir: Path"
   ]
  },
  {
   "cell_type": "markdown",
   "id": "a5179a71-125c-4062-8258-768ef8455dba",
   "metadata": {},
   "source": [
    "### Helpers\n",
    "\n",
    "General functions that do useful work."
   ]
  },
  {
   "cell_type": "code",
   "execution_count": 16,
   "id": "037e26d3-2ed9-4d23-ac0d-6e72e701af6e",
   "metadata": {},
   "outputs": [],
   "source": [
    "def load_documents(loc: Path) -> list[str]:\n",
    "    # todo\n",
    "    return []\n",
    "\n",
    "def remove_stopwords(docs: list[str]) -> list[str]:\n",
    "    # todo\n",
    "    return docs"
   ]
  },
  {
   "cell_type": "markdown",
   "id": "48436f89-09e2-4f5c-add6-cd6942d93371",
   "metadata": {},
   "source": [
    "## 2. Analysis"
   ]
  },
  {
   "cell_type": "code",
   "execution_count": 13,
   "id": "ec59dcf3-4c31-43b2-9bc5-93b02279f1c6",
   "metadata": {},
   "outputs": [],
   "source": [
    "config = Config(lda_topics=3, data_dir = Path(\"../data\"))\n",
    "\n",
    "rus_docs = load_documents(config.data_dir / RUSSIA)\n",
    "west_docs = load_documents(config.data_dir / WEST)"
   ]
  },
  {
   "cell_type": "markdown",
   "id": "c0fb22fe-226a-41d4-a9b7-f536dfdc2a99",
   "metadata": {},
   "source": [
    "### 2.1 What does the dataset of articles look like in general?\n",
    "\n",
    "Number of articles, per sphere/publication, per author.  \n",
    "Distribution of article lengths.  \n",
    "Distribution of publication dates/years.  \n",
    "Distribution of publication dates relative to important events (e.g. elections)."
   ]
  },
  {
   "cell_type": "markdown",
   "id": "85408839-693b-43a0-8761-7719e18b5545",
   "metadata": {},
   "source": [
    "### 2.2 What is the sentiment of each dataset of articles?\n",
    "\n",
    "Positive/negative, etc.  \n",
    "Can be combined with previous analysis, giving (e.g.) distribution of positive vs negative articles relative to elections."
   ]
  },
  {
   "cell_type": "markdown",
   "id": "6f9b4db3-f256-45ab-8da7-b6cfe64ab084",
   "metadata": {},
   "source": [
    "### 2.3 What are the most common words in each set of articles?\n",
    "\n",
    "Generate a word cloud perhaps?"
   ]
  },
  {
   "cell_type": "markdown",
   "id": "1b32de4e-4e49-411a-9bec-84a5d64a96d7",
   "metadata": {},
   "source": [
    "### 2.4 What is the distribution of \"topics\" in each dataset?\n",
    "\n",
    "Run LDA on the datasets, and then visualise the resulting topic distributions."
   ]
  }
 ],
 "metadata": {
  "kernelspec": {
   "display_name": "Python 3 (ipykernel)",
   "language": "python",
   "name": "python3"
  },
  "language_info": {
   "codemirror_mode": {
    "name": "ipython",
    "version": 3
   },
   "file_extension": ".py",
   "mimetype": "text/x-python",
   "name": "python",
   "nbconvert_exporter": "python",
   "pygments_lexer": "ipython3",
   "version": "3.12.3"
  }
 },
 "nbformat": 4,
 "nbformat_minor": 5
}
